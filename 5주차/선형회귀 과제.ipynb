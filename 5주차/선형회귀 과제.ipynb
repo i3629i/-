{
 "cells": [
  {
   "cell_type": "code",
   "execution_count": 321,
   "metadata": {},
   "outputs": [
    {
     "data": {
      "text/html": [
       "<div>\n",
       "<style scoped>\n",
       "    .dataframe tbody tr th:only-of-type {\n",
       "        vertical-align: middle;\n",
       "    }\n",
       "\n",
       "    .dataframe tbody tr th {\n",
       "        vertical-align: top;\n",
       "    }\n",
       "\n",
       "    .dataframe thead th {\n",
       "        text-align: right;\n",
       "    }\n",
       "</style>\n",
       "<table border=\"1\" class=\"dataframe\">\n",
       "  <thead>\n",
       "    <tr style=\"text-align: right;\">\n",
       "      <th></th>\n",
       "      <th>Self_Study_Daily</th>\n",
       "      <th>Tution_Monthly</th>\n",
       "      <th>Pass_Or_Fail</th>\n",
       "    </tr>\n",
       "  </thead>\n",
       "  <tbody>\n",
       "    <tr>\n",
       "      <th>779</th>\n",
       "      <td>7</td>\n",
       "      <td>24</td>\n",
       "      <td>1</td>\n",
       "    </tr>\n",
       "    <tr>\n",
       "      <th>302</th>\n",
       "      <td>5</td>\n",
       "      <td>31</td>\n",
       "      <td>0</td>\n",
       "    </tr>\n",
       "    <tr>\n",
       "      <th>648</th>\n",
       "      <td>7</td>\n",
       "      <td>25</td>\n",
       "      <td>0</td>\n",
       "    </tr>\n",
       "    <tr>\n",
       "      <th>361</th>\n",
       "      <td>5</td>\n",
       "      <td>31</td>\n",
       "      <td>0</td>\n",
       "    </tr>\n",
       "  </tbody>\n",
       "</table>\n",
       "</div>"
      ],
      "text/plain": [
       "     Self_Study_Daily  Tution_Monthly  Pass_Or_Fail\n",
       "779                 7              24             1\n",
       "302                 5              31             0\n",
       "648                 7              25             0\n",
       "361                 5              31             0"
      ]
     },
     "execution_count": 321,
     "metadata": {},
     "output_type": "execute_result"
    }
   ],
   "source": [
    "import matplotlib.pyplot as plt\n",
    "import numpy as np\n",
    "import math\n",
    "\n",
    "#-----------------------------#\n",
    "\n",
    "import pandas as pd\n",
    "from sklearn.model_selection import train_test_split\n",
    "from sklearn.linear_model import LogisticRegression\n",
    "\n",
    "#-----------------------------#\n",
    "\n",
    "from sklearn.metrics import accuracy_score\n",
    "from sklearn.metrics import confusion_matrix\n",
    "\n",
    "\n",
    "#-----------------------------#\n",
    "\n",
    "import seaborn as sn # heatmap\n",
    "\n",
    "\n",
    "df_Student = pd.read_csv('Student-Pass-Fail-Data.csv')\n",
    "df_Student.sample(4)"
   ]
  },
  {
   "cell_type": "code",
   "execution_count": 312,
   "metadata": {},
   "outputs": [
    {
     "name": "stdout",
     "output_type": "stream",
     "text": [
      "[[ 94   3]\n",
      " [  0 103]]\n",
      "(2, 2)\n",
      "정확도 : 0.985\n",
      "정밀도 TP + FP: 1.0\n",
      "정밀도 FP + FN: 0.9716981132075472\n",
      "Recall :  0.9690721649484536\n",
      "F1 score :  0.9842931937172774\n"
     ]
    }
   ],
   "source": [
    "# 학생 Pass Fail test\n",
    "features = df_Student[['Self_Study_Daily', 'Tution_Monthly']]\n",
    "label = df_Student['Pass_Or_Fail']\n",
    "\n",
    "train_features, test_features, train_labels, test_labels = train_test_split(features, label, test_size = 0.2)\n",
    "\n",
    "\n",
    "clf = LogisticRegression()\n",
    "clf.fit(train_features, train_labels)\n",
    "\n",
    "y_predict = clf.predict(test_features)\n",
    "print(confusion_matrix(test_labels, y_predict))\n",
    "print(confusion_matrix(test_labels, y_predict).shape)\n",
    "mat = confusion_matrix(test_labels, y_predict)\n",
    "\n",
    "\n",
    "Accuracy = (mat[0][0] + mat[1][1]) / (mat[0][0] + mat[0][1] + mat[1][0] + mat[1][1])\n",
    "\n",
    "Precision = (mat[0][0] / (mat[0][0] + mat[1][0]))\n",
    "Precision2 = (mat[1][1] / (mat[1][1] + mat[0][1]))\n",
    "\n",
    "Recall = (mat[0][0] / (mat[0][0] + mat[0][1]))\n",
    "Recall2 = (mat[1][1] / (mat[1][1] + mat[1][0]))\n",
    "\n",
    "\n",
    "print(\"정확도 :\", Accuracy)\n",
    "print(\"정밀도 TP + FP:\", Precision)\n",
    "print(\"정밀도 FP + FN:\", Precision2)\n",
    "\n",
    "print(\"Recall : \", Recall)\n",
    "\n",
    "F1 = (2 * Precision * Recall) / (Precision + Recall)\n",
    "print(\"F1 score : \",F1)"
   ]
  },
  {
   "cell_type": "code",
   "execution_count": 313,
   "metadata": {},
   "outputs": [
    {
     "name": "stdout",
     "output_type": "stream",
     "text": [
      "      Age  Sex  Pclass\n",
      "0    22.0    0       3\n",
      "1    38.0    1       1\n",
      "2    26.0    1       3\n",
      "3    35.0    1       1\n",
      "4    35.0    0       3\n",
      "..    ...  ...     ...\n",
      "885  39.0    1       3\n",
      "886  27.0    0       2\n",
      "887  19.0    1       1\n",
      "889  26.0    0       1\n",
      "890  32.0    0       3\n",
      "\n",
      "[714 rows x 3 columns]\n",
      "test데이터 갯수 :  (143,)\n",
      "정확도 : 0.7552447552447552\n",
      "정밀도 TP + FP: 0.8\n",
      "정밀도 FP + FN: 0.6896551724137931\n",
      "Recall :  0.7906976744186046\n",
      "F1 score :  0.7953216374269007\n"
     ]
    },
    {
     "name": "stderr",
     "output_type": "stream",
     "text": [
      "/home/mots-ml/anaconda3/lib/python3.7/site-packages/ipykernel_launcher.py:15: SettingWithCopyWarning: \n",
      "A value is trying to be set on a copy of a slice from a DataFrame.\n",
      "Try using .loc[row_indexer,col_indexer] = value instead\n",
      "\n",
      "See the caveats in the documentation: https://pandas.pydata.org/pandas-docs/stable/user_guide/indexing.html#returning-a-view-versus-a-copy\n",
      "  from ipykernel import kernelapp as app\n"
     ]
    }
   ],
   "source": [
    "\n",
    "# 타이타닉 예측\n",
    "df_titanic = pd.read_csv('titanic.csv')\n",
    "df_titanic.sample(4)\n",
    "\n",
    "# # dropna 결측행 제거\n",
    "df_titanic = df_titanic[['Age','Sex','Pclass','Survived']]\n",
    "df_titanic_delnul = df_titanic.dropna(axis=0)\n",
    "\n",
    "# print(df_titanic_delnul.sample(20))\n",
    "\n",
    "features = df_titanic_delnul[['Age','Sex','Pclass']]\n",
    "label = df_titanic_delnul['Survived']\n",
    "\n",
    "features['Sex'] = features['Sex'].map({\n",
    "    'male' : 0, 'female' : 1\n",
    "})\n",
    "\n",
    "print(features)\n",
    "\n",
    "train_features, test_features, train_labels, test_labels = train_test_split(features, label, test_size = 0.2)\n",
    "\n",
    "clf = LogisticRegression()\n",
    "clf.fit(train_features, train_labels)\n",
    "y_predict = clf.predict(test_features)\n",
    "\n",
    "\n",
    "# 따로 테스트 33살 , 남자, 1등급\n",
    "# y_test = clf.predict([[33,0,1]])\n",
    "# print(y_test)\n",
    "\n",
    "print(\"test데이터 갯수 : \",test_labels.shape)\n",
    "confusion_matrix(test_labels, y_predict)\n",
    "\n",
    "mat = confusion_matrix(test_labels, y_predict)\n",
    "\n",
    "Accuracy = (mat[0][0] + mat[1][1]) / (mat[0][0] + mat[0][1] + mat[1][0] + mat[1][1])\n",
    "\n",
    "Precision = (mat[0][0] / (mat[0][0] + mat[1][0]))\n",
    "Precision2 = (mat[1][1] / (mat[1][1] + mat[0][1]))\n",
    "\n",
    "Recall = (mat[0][0] / (mat[0][0] + mat[0][1]))\n",
    "Recall2 = (mat[1][1] / (mat[1][1] + mat[1][0]))\n",
    "\n",
    "\n",
    "print(\"정확도 :\", Accuracy)\n",
    "print(\"정밀도 TP + FP:\", Precision)\n",
    "print(\"정밀도 FP + FN:\", Precision2)\n",
    "print(\"Recall : \", Recall)\n",
    "\n",
    "F1 = (2 * Precision * Recall) / (Precision + Recall)\n",
    "print(\"F1 score : \",F1)"
   ]
  },
  {
   "cell_type": "code",
   "execution_count": 320,
   "metadata": {},
   "outputs": [
    {
     "name": "stdout",
     "output_type": "stream",
     "text": [
      "      Age  Sex  Pclass\n",
      "0    22.0    0       3\n",
      "1    38.0    1       1\n",
      "2    26.0    1       3\n",
      "3    35.0    1       1\n",
      "4    35.0    0       3\n",
      "..    ...  ...     ...\n",
      "885  39.0    1       3\n",
      "886  27.0    0       2\n",
      "887  19.0    1       1\n",
      "889  26.0    0       1\n",
      "890  32.0    0       3\n",
      "\n",
      "[714 rows x 3 columns]\n",
      "test데이터 갯수 :  (143,)\n",
      "정확도 : 0.7762237762237763\n",
      "정밀도 TP + FP: 0.7954545454545454\n",
      "정밀도 FP + FN: 0.7454545454545455\n",
      "Recall :  0.8333333333333334\n",
      "F1 score :  0.8139534883720929\n",
      "생존여부 :  [1]\n",
      "생존여부 :  [0]\n"
     ]
    },
    {
     "name": "stderr",
     "output_type": "stream",
     "text": [
      "/home/mots-ml/anaconda3/lib/python3.7/site-packages/ipykernel_launcher.py:15: SettingWithCopyWarning: \n",
      "A value is trying to be set on a copy of a slice from a DataFrame.\n",
      "Try using .loc[row_indexer,col_indexer] = value instead\n",
      "\n",
      "See the caveats in the documentation: https://pandas.pydata.org/pandas-docs/stable/user_guide/indexing.html#returning-a-view-versus-a-copy\n",
      "  from ipykernel import kernelapp as app\n"
     ]
    }
   ],
   "source": [
    "# 타이타닉 예측\n",
    "df_titanic = pd.read_csv('titanic.csv')\n",
    "df_titanic.sample(4)\n",
    "\n",
    "# # dropna 결측행 제거\n",
    "df_titanic = df_titanic[['Age','Sex','Pclass','Survived']]\n",
    "df_titanic_delnul = df_titanic.dropna(axis=0)\n",
    "\n",
    "# print(df_titanic_delnul.sample(20))\n",
    "\n",
    "features = df_titanic_delnul[['Age','Sex','Pclass']]\n",
    "label = df_titanic_delnul['Survived']\n",
    "\n",
    "features['Sex'] = features['Sex'].map({\n",
    "    'male' : 0, 'female' : 1\n",
    "})\n",
    "\n",
    "print(features)\n",
    "\n",
    "train_features, test_features, train_labels, test_labels = train_test_split(features, label, test_size = 0.2)\n",
    "\n",
    "clf = LogisticRegression()\n",
    "clf.fit(train_features, train_labels)\n",
    "y_predict = clf.predict(test_features)\n",
    "\n",
    "\n",
    "\n",
    "\n",
    "print(\"test데이터 갯수 : \",test_labels.shape)\n",
    "confusion_matrix(test_labels, y_predict)\n",
    "\n",
    "mat = confusion_matrix(test_labels, y_predict)\n",
    "\n",
    "Accuracy = (mat[0][0] + mat[1][1]) / (mat[0][0] + mat[0][1] + mat[1][0] + mat[1][1])\n",
    "\n",
    "Precision = (mat[0][0] / (mat[0][0] + mat[1][0]))\n",
    "Precision2 = (mat[1][1] / (mat[1][1] + mat[0][1]))\n",
    "\n",
    "Recall = (mat[0][0] / (mat[0][0] + mat[0][1]))\n",
    "Recall2 = (mat[1][1] / (mat[1][1] + mat[1][0]))\n",
    "\n",
    "\n",
    "print(\"정확도 :\", Accuracy)\n",
    "print(\"정밀도 TP + FP:\", Precision)\n",
    "print(\"정밀도 FP + FN:\", Precision2)\n",
    "print(\"Recall : \", Recall)\n",
    "\n",
    "F1 = (2 * Precision * Recall) / (Precision + Recall)\n",
    "print(\"F1 score : \",F1)\n",
    "\n",
    "# 따로 테스트\n",
    "y_test1 = clf.predict([[26,0,1]])\n",
    "print(\"생존여부 : \",y_test1)\n",
    "\n",
    "y_test2 = clf.predict([[26,0,3]])\n",
    "print(\"생존여부 : \", y_test2)"
   ]
  },
  {
   "cell_type": "code",
   "execution_count": 444,
   "metadata": {},
   "outputs": [
    {
     "name": "stdout",
     "output_type": "stream",
     "text": [
      "['cp' 'im' 'imS' 'imL' 'imU' 'om' 'omL' 'pp']\n",
      "0.8823529411764706\n",
      "[[23  0  0  0  0  0  1]\n",
      " [ 1 17  0  1  0  0  0]\n",
      " [ 0  0  0  0  0  0  1]\n",
      " [ 0  0  0  4  0  0  0]\n",
      " [ 0  0  0  0  4  0  2]\n",
      " [ 0  0  0  0  0  1  0]\n",
      " [ 2  0  0  0  0  0 11]]\n"
     ]
    },
    {
     "name": "stderr",
     "output_type": "stream",
     "text": [
      "/home/mots-ml/anaconda3/lib/python3.7/site-packages/sklearn/utils/validation.py:760: DataConversionWarning: A column-vector y was passed when a 1d array was expected. Please change the shape of y to (n_samples, ), for example using ravel().\n",
      "  y = column_or_1d(y, warn=True)\n"
     ]
    },
    {
     "data": {
      "image/png": "[encoded data removed]",
      "text/plain": [
       "<Figure size 504x504 with 2 Axes>"
      ]
     },
     "metadata": {
      "needs_background": "light"
     },
     "output_type": "display_data"
    }
   ],
   "source": [
    "# Coli 과제\n",
    "ecoli = pd.read_csv(\"ecoli.csv\")\n",
    "# print(ecoli.sample(10))\n",
    "\n",
    "print(ecoli[\"Type\"].unique())\n",
    "\n",
    "features = ecoli[['C1','C2','C3','C4','C5','C6','C7']]\n",
    "label = ecoli[['Type']]\n",
    "train_features, test_features, train_labels, test_labels = train_test_split(features, label, test_size = 0.2)\n",
    "\n",
    "softmax_reg = LogisticRegression(multi_class=\"multinomial\", solver =\"lbfgs\",random_state=42,max_iter=5000, C=10)  \n",
    "softmax_reg.fit(train_features, train_labels)\n",
    "\n",
    "y_pred = softmax_reg.predict(test_features)\n",
    "\n",
    "\n",
    "accuracy_score(test_labels,y_pred)\n",
    "print(accuracy_score(test_labels,y_pred))\n",
    "\n",
    "conf_mat = confusion_matrix(test_labels,y_pred)\n",
    "print(confusion_matrix(test_labels,y_pred))\n",
    "\n",
    "plt.figure(figsize=(7,7))\n",
    "sn.heatmap(conf_mat, annot = True, fmt=\".3f\", linewidths=.5,square=True)\n",
    "plt.ylabel(\"Actual class\")\n",
    "plt.xlabel(\"predict class\")\n",
    "plt.show()"
   ]
  },
  {
   "cell_type": "code",
   "execution_count": 467,
   "metadata": {},
   "outputs": [
    {
     "name": "stdout",
     "output_type": "stream",
     "text": [
      "     caseno  SepalLength  SepalWidth  PetalLength  PetalWidth     Species\n",
      "57       58          4.9         2.4          3.3         1.0  versicolor\n",
      "26       27          5.0         3.4          1.6         0.4      setosa\n",
      "141     142          6.9         3.1          5.1         2.3   virginica\n",
      "39       40          5.1         3.4          1.5         0.2      setosa\n",
      "12       13          4.8         3.0          1.4         0.1      setosa\n",
      "1.0\n",
      "[[ 8  0  0]\n",
      " [ 0 10  0]\n",
      " [ 0  0 12]]\n"
     ]
    },
    {
     "name": "stderr",
     "output_type": "stream",
     "text": [
      "/home/mots-ml/anaconda3/lib/python3.7/site-packages/sklearn/utils/validation.py:760: DataConversionWarning: A column-vector y was passed when a 1d array was expected. Please change the shape of y to (n_samples, ), for example using ravel().\n",
      "  y = column_or_1d(y, warn=True)\n"
     ]
    },
    {
     "data": {
      "image/png": "[encoded data removed]",
      "text/plain": [
       "<Figure size 504x504 with 2 Axes>"
      ]
     },
     "metadata": {
      "needs_background": "light"
     },
     "output_type": "display_data"
    }
   ],
   "source": [
    "# 아이리스 소프트 맥스 과제\n",
    "\n",
    "iris = pd.read_csv(\"iris(150).csv\")\n",
    "print(iris.sample(5))\n",
    "\n",
    "iris['Species'] = iris['Species'].map({\n",
    "    'versicolor':0, 'virginica':1, 'setosa':2\n",
    "})\n",
    "\n",
    "features = iris[['caseno','SepalLength','SepalWidth','PetalLength','PetalWidth']]\n",
    "label = iris[['Species']]\n",
    "train_features, test_features, train_labels, test_labels = train_test_split(features, label, test_size = 0.2)\n",
    "\n",
    "softmax_reg = LogisticRegression(multi_class=\"multinomial\", solver =\"lbfgs\",random_state=42,max_iter=5000, C=10)  \n",
    "softmax_reg.fit(train_features, train_labels)\n",
    "\n",
    "y_pred = softmax_reg.predict(test_features)\n",
    "\n",
    "accuracy_score(test_labels,y_pred)\n",
    "print(accuracy_score(test_labels,y_pred))\n",
    "\n",
    "conf_mat = confusion_matrix(test_labels,y_pred)\n",
    "print(confusion_matrix(test_labels,y_pred))\n",
    "\n",
    "plt.figure(figsize=(7,7))\n",
    "sn.heatmap(conf_mat, annot = True, fmt=\".3f\", linewidths=.5,square=True)\n",
    "plt.ylabel(\"Actual class\")\n",
    "plt.xlabel(\"predict class\")\n",
    "plt.show()"
   ]
  }
 ],
 "metadata": {
  "kernelspec": {
   "display_name": "Python 3",
   "language": "python",
   "name": "python3"
  },
  "language_info": {
   "codemirror_mode": {
    "name": "ipython",
    "version": 3
   },
   "file_extension": ".py",
   "mimetype": "text/x-python",
   "name": "python",
   "nbconvert_exporter": "python",
   "pygments_lexer": "ipython3",
   "version": "3.7.6"
  }
 },
 "nbformat": 4,
 "nbformat_minor": 4
}
